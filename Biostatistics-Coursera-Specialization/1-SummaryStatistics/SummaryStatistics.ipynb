{
 "cells": [
  {
   "source": [
    "# Summary Statistics in Public Health\n",
    "\n",
    "\n",
    "Course 1 of 4 from Biostatistics Specialization"
   ],
   "cell_type": "markdown",
   "metadata": {}
  },
  {
   "source": [
    "## Week 1"
   ],
   "cell_type": "markdown",
   "metadata": {}
  },
  {
   "source": [
    "### The Role of Statistics in Public Health Research\n",
    "\n",
    "- Statistics as one of the hottest jobs;\n",
    "- Data are everywhere, including in Public Health;\n",
    "\n",
    "There are steps in a Research Project like planning, data collection, analysis and etc, Statiticians can play a role in most of these steps."
   ],
   "cell_type": "markdown",
   "metadata": {}
  },
  {
   "source": [
    "#### Sample Versus Population\n",
    "\n",
    "Population is the entire group for which information is wanted.\n",
    "\n",
    "Sample is a subset of a larger group (population).\n",
    "\n",
    "Generally speaking, with regards to public health and medical research, not all elements of a population can be studied. As such, a sample is taken from the populator of interest.\n",
    "- Random sampling is the best strategy for getting a sample whose characteristics imperfectly mimic the population;\n",
    "- However, random sample is not always feasible.\n",
    "\n"
   ],
   "cell_type": "markdown",
   "metadata": {}
  },
  {
   "source": [
    "#### Study Design\n",
    "\n",
    "Prospective Cohort Studies:\n",
    "\n",
    "- Randomized/controlled study design;\n",
    "- Obversational (Cohort) Studies.\n",
    "\n",
    "Subjects are classified as to their exposure(s) status at study start, and followed over time to see who develops outcome(s).\n",
    "\n",
    "Randomized studies are more conclusive and effective.\n",
    "\n",
    "Case/Control Studies\n",
    "\n",
    "Subjects are chosen based on their outcome status, and the exposure(s) that occurred prior to outcome are assessed."
   ],
   "cell_type": "markdown",
   "metadata": {}
  },
  {
   "source": [
    "#### Data Types and Summarization\n",
    "\n",
    "Continuous, Binary, Categorical (Nominal and Ordinal) and Time-to-event Data;\n",
    "\n",
    "There are different approaches for summarizing and analyzing these different data types."
   ],
   "cell_type": "markdown",
   "metadata": {}
  },
  {
   "source": [
    "### Continuous Data Measures\n",
    "\n",
    "Measures of the center of Data\n",
    "- Mean;\n",
    "- Median (50th Percentile).\n",
    "\n",
    "Measure of data variability\n",
    "- Standard deviation.\n",
    "\n",
    "Other measures of location\n",
    "- Pecentiles.\n",
    "\n",
    "The sample mean:\n",
    "\n",
    "$$\\bar{x} = \\frac{\\sum_{i=1}^{n} x_{i}}{n} \\text{, where } \\displaystyle \\sum_{i = 1}^{n}x_{i} = x_1 + x_2 + x_3 + \\cdots + x_n$$\n",
    "\n",
    "The sample variance:\n",
    "\n",
    "$$s^{2} = \\frac{\\sum_{i = 1}^{n}(x_i - \\bar{x})^{2}}{n - 1}$$\n",
    "\n",
    "The sample standard deviation:\n",
    "\n",
    "$$s = \\sqrt\\frac{\\sum_{i = 1}^{n}(x_i - \\bar{x})^{2}}{n - 1}$$"
   ],
   "cell_type": "markdown",
   "metadata": {}
  },
  {
   "source": [
    "#### Visual Displays\n",
    "\n",
    "- Histograms and boxplots to visualize the distributions of samples of continuous data;\n",
    "- Identify key summary statistics on the boxplot;\n",
    "- Name and describe basic characteristics of some common distribution shapes for continuous data."
   ],
   "cell_type": "markdown",
   "metadata": {}
  },
  {
   "source": [
    "#### The Role of Sample Size on Sample Based Estimates\n",
    "\n",
    "- Adding more and more samples to the the histograms we have something near of a normal distribution;\n",
    "- With boxplots, more outliers are notable;\n",
    "- The distribution of sample values of continuoues data should (imperfectly) mimic the distribution of the values in the population from which the sample was taken."
   ],
   "cell_type": "markdown",
   "metadata": {}
  },
  {
   "source": [
    "#### Comparing Distributions of Continuous Data\n",
    "\n",
    "While the distributions of continuous data can be compared between samples in many ways, some key approaches include:\n",
    "- Visual comparisons, such as side-by-side boxplots;\n",
    "- Numerical compar, mainly the mean difference, between any group of two samples."
   ],
   "cell_type": "markdown",
   "metadata": {}
  }
 ],
 "metadata": {},
 "nbformat": 4,
 "nbformat_minor": 4
}